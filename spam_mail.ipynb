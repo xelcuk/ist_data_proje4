{
 "cells": [
  {
   "cell_type": "code",
   "execution_count": 8,
   "id": "7a8b5d2a-a0fc-4dda-bc0e-1974ee8c363f",
   "metadata": {
    "tags": []
   },
   "outputs": [],
   "source": [
    "import nltk\n",
    "import numpy as np\n",
    "import pandas as pd\n",
    "import seaborn as sns"
   ]
  },
  {
   "cell_type": "code",
   "execution_count": 1,
   "id": "1c1a294e-c01f-4c2a-b182-53fb5ba8f54a",
   "metadata": {
    "tags": []
   },
   "outputs": [],
   "source": [
    "from pymongo import MongoClient\n",
    "import pandas as pd"
   ]
  },
  {
   "cell_type": "code",
   "execution_count": 2,
   "id": "367ffac1-ffac-4ba2-8195-29ca0ac84de5",
   "metadata": {
    "tags": []
   },
   "outputs": [
    {
     "data": {
      "text/plain": [
       "Database(MongoClient(host=['ac-2xrhs96-shard-00-02.owwq50m.mongodb.net:27017', 'ac-2xrhs96-shard-00-00.owwq50m.mongodb.net:27017', 'ac-2xrhs96-shard-00-01.owwq50m.mongodb.net:27017'], document_class=dict, tz_aware=False, connect=True, retrywrites=True, w='majority', authsource='admin', replicaset='atlas-iujnsw-shard-0', tls=True), 'test')"
      ]
     },
     "execution_count": 2,
     "metadata": {},
     "output_type": "execute_result"
    }
   ],
   "source": [
    "client = MongoClient(\"bağlantınız ve parolanız\")\n",
    "client.test"
   ]
  },
  {
   "cell_type": "code",
   "execution_count": 3,
   "id": "179b719a-d780-4854-a008-a6f2710e79e4",
   "metadata": {
    "tags": []
   },
   "outputs": [
    {
     "data": {
      "text/plain": [
       "['firstdatabase',\n",
       " 'istdata',\n",
       " 'sample_airbnb',\n",
       " 'sample_analytics',\n",
       " 'sample_geospatial',\n",
       " 'sample_guides',\n",
       " 'sample_mflix',\n",
       " 'sample_restaurants',\n",
       " 'sample_supplies',\n",
       " 'sample_training',\n",
       " 'sample_weatherdata',\n",
       " 'admin',\n",
       " 'local']"
      ]
     },
     "execution_count": 3,
     "metadata": {},
     "output_type": "execute_result"
    }
   ],
   "source": [
    "client.list_database_names()"
   ]
  },
  {
   "cell_type": "code",
   "execution_count": 4,
   "id": "0d928448-4e59-4bef-864e-7ea43eb6daea",
   "metadata": {
    "tags": []
   },
   "outputs": [],
   "source": [
    "db = client.istdata"
   ]
  },
  {
   "cell_type": "code",
   "execution_count": 5,
   "id": "e8e0428d-4880-4408-aeb8-8185a36d2af7",
   "metadata": {
    "tags": []
   },
   "outputs": [
    {
     "data": {
      "text/plain": [
       "['proje4']"
      ]
     },
     "execution_count": 5,
     "metadata": {},
     "output_type": "execute_result"
    }
   ],
   "source": [
    "db.list_collection_names()"
   ]
  },
  {
   "cell_type": "code",
   "execution_count": 6,
   "id": "611ee06a-08cc-4657-93a9-ebaf1daf2180",
   "metadata": {
    "tags": []
   },
   "outputs": [
    {
     "data": {
      "text/plain": [
       "Collection(Database(MongoClient(host=['ac-2xrhs96-shard-00-02.owwq50m.mongodb.net:27017', 'ac-2xrhs96-shard-00-00.owwq50m.mongodb.net:27017', 'ac-2xrhs96-shard-00-01.owwq50m.mongodb.net:27017'], document_class=dict, tz_aware=False, connect=True, retrywrites=True, w='majority', authsource='admin', replicaset='atlas-iujnsw-shard-0', tls=True), 'istdata'), 'proje4')"
      ]
     },
     "execution_count": 6,
     "metadata": {},
     "output_type": "execute_result"
    }
   ],
   "source": [
    "collection = db.get_collection('proje4')\n",
    "collection"
   ]
  },
  {
   "cell_type": "code",
   "execution_count": 7,
   "id": "888cf7ae-263e-491d-876c-c0a3c702e556",
   "metadata": {
    "tags": []
   },
   "outputs": [
    {
     "data": {
      "text/html": [
       "<div>\n",
       "<style scoped>\n",
       "    .dataframe tbody tr th:only-of-type {\n",
       "        vertical-align: middle;\n",
       "    }\n",
       "\n",
       "    .dataframe tbody tr th {\n",
       "        vertical-align: top;\n",
       "    }\n",
       "\n",
       "    .dataframe thead th {\n",
       "        text-align: right;\n",
       "    }\n",
       "</style>\n",
       "<table border=\"1\" class=\"dataframe\">\n",
       "  <thead>\n",
       "    <tr style=\"text-align: right;\">\n",
       "      <th></th>\n",
       "      <th>_id</th>\n",
       "      <th>CATEGORY</th>\n",
       "      <th>MESSAGE</th>\n",
       "      <th>FILE_NAME</th>\n",
       "    </tr>\n",
       "  </thead>\n",
       "  <tbody>\n",
       "    <tr>\n",
       "      <th>0</th>\n",
       "      <td>655b5e979c0412f6fabc4bd6</td>\n",
       "      <td>1</td>\n",
       "      <td>Dear Homeowner,\\n\\n \\n\\nInterest Rates are at ...</td>\n",
       "      <td>00249.5f45607c1bffe89f60ba1ec9f878039a</td>\n",
       "    </tr>\n",
       "    <tr>\n",
       "      <th>1</th>\n",
       "      <td>655b5e979c0412f6fabc4bd7</td>\n",
       "      <td>1</td>\n",
       "      <td>ATTENTION: This is a MUST for ALL Computer Use...</td>\n",
       "      <td>00373.ebe8670ac56b04125c25100a36ab0510</td>\n",
       "    </tr>\n",
       "    <tr>\n",
       "      <th>2</th>\n",
       "      <td>655b5e979c0412f6fabc4bd8</td>\n",
       "      <td>1</td>\n",
       "      <td>This is a multi-part message in MIME format.\\n...</td>\n",
       "      <td>00214.1367039e50dc6b7adb0f2aa8aba83216</td>\n",
       "    </tr>\n",
       "    <tr>\n",
       "      <th>3</th>\n",
       "      <td>655b5e979c0412f6fabc4bd9</td>\n",
       "      <td>1</td>\n",
       "      <td>IMPORTANT INFORMATION:\\n\\n\\n\\nThe new domain n...</td>\n",
       "      <td>00210.050ffd105bd4e006771ee63cabc59978</td>\n",
       "    </tr>\n",
       "    <tr>\n",
       "      <th>4</th>\n",
       "      <td>655b5e979c0412f6fabc4bda</td>\n",
       "      <td>1</td>\n",
       "      <td>This is the bottom line.  If you can GIVE AWAY...</td>\n",
       "      <td>00033.9babb58d9298daa2963d4f514193d7d6</td>\n",
       "    </tr>\n",
       "    <tr>\n",
       "      <th>...</th>\n",
       "      <td>...</td>\n",
       "      <td>...</td>\n",
       "      <td>...</td>\n",
       "      <td>...</td>\n",
       "    </tr>\n",
       "    <tr>\n",
       "      <th>5791</th>\n",
       "      <td>655b5eb29c0412f6fabc6275</td>\n",
       "      <td>0</td>\n",
       "      <td>I'm one of the 30,000 but it's not working ver...</td>\n",
       "      <td>00609.dd49926ce94a1ea328cce9b62825bc97</td>\n",
       "    </tr>\n",
       "    <tr>\n",
       "      <th>5792</th>\n",
       "      <td>655b5eb29c0412f6fabc6276</td>\n",
       "      <td>0</td>\n",
       "      <td>Damien Morton quoted:\\n\\n&gt;W3C approves HTML 4 ...</td>\n",
       "      <td>00957.e0b56b117f3ec5f85e432a9d2a47801f</td>\n",
       "    </tr>\n",
       "    <tr>\n",
       "      <th>5793</th>\n",
       "      <td>655b5eb29c0412f6fabc6277</td>\n",
       "      <td>0</td>\n",
       "      <td>On Mon, 2002-07-22 at 06:50, che wrote:\\n\\n\\n\\...</td>\n",
       "      <td>01127.841233b48eceb74a825417d8d918abf8</td>\n",
       "    </tr>\n",
       "    <tr>\n",
       "      <th>5794</th>\n",
       "      <td>655b5eb29c0412f6fabc6278</td>\n",
       "      <td>0</td>\n",
       "      <td>Once upon a time, Manfred wrote :\\n\\n\\n\\n&gt; I w...</td>\n",
       "      <td>01178.5c977dff972cd6eef64d4173b90307f0</td>\n",
       "    </tr>\n",
       "    <tr>\n",
       "      <th>5795</th>\n",
       "      <td>655b5eb29c0412f6fabc6279</td>\n",
       "      <td>0</td>\n",
       "      <td>If you run Pick, and then use the \"New FTOC\" b...</td>\n",
       "      <td>00747.352d424267d36975a7b40b85ffd0885e</td>\n",
       "    </tr>\n",
       "  </tbody>\n",
       "</table>\n",
       "<p>5796 rows × 4 columns</p>\n",
       "</div>"
      ],
      "text/plain": [
       "                           _id  CATEGORY  \\\n",
       "0     655b5e979c0412f6fabc4bd6         1   \n",
       "1     655b5e979c0412f6fabc4bd7         1   \n",
       "2     655b5e979c0412f6fabc4bd8         1   \n",
       "3     655b5e979c0412f6fabc4bd9         1   \n",
       "4     655b5e979c0412f6fabc4bda         1   \n",
       "...                        ...       ...   \n",
       "5791  655b5eb29c0412f6fabc6275         0   \n",
       "5792  655b5eb29c0412f6fabc6276         0   \n",
       "5793  655b5eb29c0412f6fabc6277         0   \n",
       "5794  655b5eb29c0412f6fabc6278         0   \n",
       "5795  655b5eb29c0412f6fabc6279         0   \n",
       "\n",
       "                                                MESSAGE  \\\n",
       "0     Dear Homeowner,\\n\\n \\n\\nInterest Rates are at ...   \n",
       "1     ATTENTION: This is a MUST for ALL Computer Use...   \n",
       "2     This is a multi-part message in MIME format.\\n...   \n",
       "3     IMPORTANT INFORMATION:\\n\\n\\n\\nThe new domain n...   \n",
       "4     This is the bottom line.  If you can GIVE AWAY...   \n",
       "...                                                 ...   \n",
       "5791  I'm one of the 30,000 but it's not working ver...   \n",
       "5792  Damien Morton quoted:\\n\\n>W3C approves HTML 4 ...   \n",
       "5793  On Mon, 2002-07-22 at 06:50, che wrote:\\n\\n\\n\\...   \n",
       "5794  Once upon a time, Manfred wrote :\\n\\n\\n\\n> I w...   \n",
       "5795  If you run Pick, and then use the \"New FTOC\" b...   \n",
       "\n",
       "                                   FILE_NAME  \n",
       "0     00249.5f45607c1bffe89f60ba1ec9f878039a  \n",
       "1     00373.ebe8670ac56b04125c25100a36ab0510  \n",
       "2     00214.1367039e50dc6b7adb0f2aa8aba83216  \n",
       "3     00210.050ffd105bd4e006771ee63cabc59978  \n",
       "4     00033.9babb58d9298daa2963d4f514193d7d6  \n",
       "...                                      ...  \n",
       "5791  00609.dd49926ce94a1ea328cce9b62825bc97  \n",
       "5792  00957.e0b56b117f3ec5f85e432a9d2a47801f  \n",
       "5793  01127.841233b48eceb74a825417d8d918abf8  \n",
       "5794  01178.5c977dff972cd6eef64d4173b90307f0  \n",
       "5795  00747.352d424267d36975a7b40b85ffd0885e  \n",
       "\n",
       "[5796 rows x 4 columns]"
      ]
     },
     "execution_count": 7,
     "metadata": {},
     "output_type": "execute_result"
    }
   ],
   "source": [
    "df = pd.DataFrame(list(collection.find()))\n",
    "df"
   ]
  },
  {
   "cell_type": "code",
   "execution_count": 9,
   "id": "dce6f4b0-bee3-49e1-91a0-57556a1f107c",
   "metadata": {},
   "outputs": [
    {
     "name": "stdout",
     "output_type": "stream",
     "text": [
      "<class 'pandas.core.frame.DataFrame'>\n",
      "RangeIndex: 5796 entries, 0 to 5795\n",
      "Data columns (total 4 columns):\n",
      " #   Column     Non-Null Count  Dtype \n",
      "---  ------     --------------  ----- \n",
      " 0   _id        5796 non-null   object\n",
      " 1   CATEGORY   5796 non-null   int64 \n",
      " 2   MESSAGE    5796 non-null   object\n",
      " 3   FILE_NAME  5796 non-null   object\n",
      "dtypes: int64(1), object(3)\n",
      "memory usage: 181.3+ KB\n"
     ]
    }
   ],
   "source": [
    "df.info()"
   ]
  },
  {
   "cell_type": "code",
   "execution_count": 10,
   "id": "1c880f25-246c-420d-9abd-fccaabfdf0c4",
   "metadata": {},
   "outputs": [
    {
     "data": {
      "text/plain": [
       "0       Dear Homeowner,\\n\\n \\n\\nInterest Rates are at ...\n",
       "1       ATTENTION: This is a MUST for ALL Computer Use...\n",
       "2       This is a multi-part message in MIME format.\\n...\n",
       "3       IMPORTANT INFORMATION:\\n\\n\\n\\nThe new domain n...\n",
       "4       This is the bottom line.  If you can GIVE AWAY...\n",
       "                              ...                        \n",
       "5791    I'm one of the 30,000 but it's not working ver...\n",
       "5792    Damien Morton quoted:\\n\\n>W3C approves HTML 4 ...\n",
       "5793    On Mon, 2002-07-22 at 06:50, che wrote:\\n\\n\\n\\...\n",
       "5794    Once upon a time, Manfred wrote :\\n\\n\\n\\n> I w...\n",
       "5795    If you run Pick, and then use the \"New FTOC\" b...\n",
       "Name: MESSAGE, Length: 5796, dtype: object"
      ]
     },
     "execution_count": 10,
     "metadata": {},
     "output_type": "execute_result"
    }
   ],
   "source": [
    "df.MESSAGE\n",
    "## mesajların içinde temizlenmesi gereken  html kodları da var"
   ]
  },
  {
   "cell_type": "code",
   "execution_count": 11,
   "id": "9fccd950-015b-4c97-bd0c-026e10b6102a",
   "metadata": {},
   "outputs": [
    {
     "data": {
      "text/plain": [
       "CATEGORY\n",
       "0    0.672878\n",
       "1    0.327122\n",
       "Name: proportion, dtype: float64"
      ]
     },
     "execution_count": 11,
     "metadata": {},
     "output_type": "execute_result"
    }
   ],
   "source": [
    "df.CATEGORY.value_counts(normalize=True)"
   ]
  },
  {
   "cell_type": "code",
   "execution_count": 12,
   "id": "006722d2-4a4a-4056-a5a2-5b4e26e34c34",
   "metadata": {},
   "outputs": [],
   "source": [
    "df['sentiment'] = df['CATEGORY'].apply(lambda x: (x==1 and 'Spam') or 'NotSpam')"
   ]
  },
  {
   "cell_type": "code",
   "execution_count": 13,
   "id": "5aeaea15-d262-4199-bf64-359fb323cf61",
   "metadata": {},
   "outputs": [
    {
     "data": {
      "text/html": [
       "<div>\n",
       "<style scoped>\n",
       "    .dataframe tbody tr th:only-of-type {\n",
       "        vertical-align: middle;\n",
       "    }\n",
       "\n",
       "    .dataframe tbody tr th {\n",
       "        vertical-align: top;\n",
       "    }\n",
       "\n",
       "    .dataframe thead th {\n",
       "        text-align: right;\n",
       "    }\n",
       "</style>\n",
       "<table border=\"1\" class=\"dataframe\">\n",
       "  <thead>\n",
       "    <tr style=\"text-align: right;\">\n",
       "      <th></th>\n",
       "      <th>_id</th>\n",
       "      <th>CATEGORY</th>\n",
       "      <th>MESSAGE</th>\n",
       "      <th>FILE_NAME</th>\n",
       "      <th>sentiment</th>\n",
       "    </tr>\n",
       "  </thead>\n",
       "  <tbody>\n",
       "    <tr>\n",
       "      <th>0</th>\n",
       "      <td>655b5e979c0412f6fabc4bd6</td>\n",
       "      <td>1</td>\n",
       "      <td>Dear Homeowner,\\n\\n \\n\\nInterest Rates are at ...</td>\n",
       "      <td>00249.5f45607c1bffe89f60ba1ec9f878039a</td>\n",
       "      <td>Spam</td>\n",
       "    </tr>\n",
       "    <tr>\n",
       "      <th>1</th>\n",
       "      <td>655b5e979c0412f6fabc4bd7</td>\n",
       "      <td>1</td>\n",
       "      <td>ATTENTION: This is a MUST for ALL Computer Use...</td>\n",
       "      <td>00373.ebe8670ac56b04125c25100a36ab0510</td>\n",
       "      <td>Spam</td>\n",
       "    </tr>\n",
       "    <tr>\n",
       "      <th>2</th>\n",
       "      <td>655b5e979c0412f6fabc4bd8</td>\n",
       "      <td>1</td>\n",
       "      <td>This is a multi-part message in MIME format.\\n...</td>\n",
       "      <td>00214.1367039e50dc6b7adb0f2aa8aba83216</td>\n",
       "      <td>Spam</td>\n",
       "    </tr>\n",
       "    <tr>\n",
       "      <th>3</th>\n",
       "      <td>655b5e979c0412f6fabc4bd9</td>\n",
       "      <td>1</td>\n",
       "      <td>IMPORTANT INFORMATION:\\n\\n\\n\\nThe new domain n...</td>\n",
       "      <td>00210.050ffd105bd4e006771ee63cabc59978</td>\n",
       "      <td>Spam</td>\n",
       "    </tr>\n",
       "    <tr>\n",
       "      <th>4</th>\n",
       "      <td>655b5e979c0412f6fabc4bda</td>\n",
       "      <td>1</td>\n",
       "      <td>This is the bottom line.  If you can GIVE AWAY...</td>\n",
       "      <td>00033.9babb58d9298daa2963d4f514193d7d6</td>\n",
       "      <td>Spam</td>\n",
       "    </tr>\n",
       "  </tbody>\n",
       "</table>\n",
       "</div>"
      ],
      "text/plain": [
       "                        _id  CATEGORY  \\\n",
       "0  655b5e979c0412f6fabc4bd6         1   \n",
       "1  655b5e979c0412f6fabc4bd7         1   \n",
       "2  655b5e979c0412f6fabc4bd8         1   \n",
       "3  655b5e979c0412f6fabc4bd9         1   \n",
       "4  655b5e979c0412f6fabc4bda         1   \n",
       "\n",
       "                                             MESSAGE  \\\n",
       "0  Dear Homeowner,\\n\\n \\n\\nInterest Rates are at ...   \n",
       "1  ATTENTION: This is a MUST for ALL Computer Use...   \n",
       "2  This is a multi-part message in MIME format.\\n...   \n",
       "3  IMPORTANT INFORMATION:\\n\\n\\n\\nThe new domain n...   \n",
       "4  This is the bottom line.  If you can GIVE AWAY...   \n",
       "\n",
       "                                FILE_NAME sentiment  \n",
       "0  00249.5f45607c1bffe89f60ba1ec9f878039a      Spam  \n",
       "1  00373.ebe8670ac56b04125c25100a36ab0510      Spam  \n",
       "2  00214.1367039e50dc6b7adb0f2aa8aba83216      Spam  \n",
       "3  00210.050ffd105bd4e006771ee63cabc59978      Spam  \n",
       "4  00033.9babb58d9298daa2963d4f514193d7d6      Spam  "
      ]
     },
     "execution_count": 13,
     "metadata": {},
     "output_type": "execute_result"
    }
   ],
   "source": [
    "df.head()"
   ]
  },
  {
   "cell_type": "code",
   "execution_count": 14,
   "id": "3cf3e2bc-350b-425e-a21d-5d20f9bc162d",
   "metadata": {
    "tags": []
   },
   "outputs": [
    {
     "data": {
      "text/html": [
       "<div>\n",
       "<style scoped>\n",
       "    .dataframe tbody tr th:only-of-type {\n",
       "        vertical-align: middle;\n",
       "    }\n",
       "\n",
       "    .dataframe tbody tr th {\n",
       "        vertical-align: top;\n",
       "    }\n",
       "\n",
       "    .dataframe thead th {\n",
       "        text-align: right;\n",
       "    }\n",
       "</style>\n",
       "<table border=\"1\" class=\"dataframe\">\n",
       "  <thead>\n",
       "    <tr style=\"text-align: right;\">\n",
       "      <th></th>\n",
       "      <th>sentiment</th>\n",
       "      <th>MESSAGE</th>\n",
       "    </tr>\n",
       "  </thead>\n",
       "  <tbody>\n",
       "    <tr>\n",
       "      <th>0</th>\n",
       "      <td>Spam</td>\n",
       "      <td>Dear Homeowner,\\n\\n \\n\\nInterest Rates are at ...</td>\n",
       "    </tr>\n",
       "    <tr>\n",
       "      <th>1</th>\n",
       "      <td>Spam</td>\n",
       "      <td>ATTENTION: This is a MUST for ALL Computer Use...</td>\n",
       "    </tr>\n",
       "    <tr>\n",
       "      <th>2</th>\n",
       "      <td>Spam</td>\n",
       "      <td>This is a multi-part message in MIME format.\\n...</td>\n",
       "    </tr>\n",
       "    <tr>\n",
       "      <th>3</th>\n",
       "      <td>Spam</td>\n",
       "      <td>IMPORTANT INFORMATION:\\n\\n\\n\\nThe new domain n...</td>\n",
       "    </tr>\n",
       "    <tr>\n",
       "      <th>4</th>\n",
       "      <td>Spam</td>\n",
       "      <td>This is the bottom line.  If you can GIVE AWAY...</td>\n",
       "    </tr>\n",
       "    <tr>\n",
       "      <th>5</th>\n",
       "      <td>Spam</td>\n",
       "      <td>------=_NextPart_000_00B8_51E06B6A.C8586B31\\n\\...</td>\n",
       "    </tr>\n",
       "    <tr>\n",
       "      <th>6</th>\n",
       "      <td>Spam</td>\n",
       "      <td>&lt;STYLE type=\"text/css\"&gt;\\n\\n&lt;!--\\n\\nP{\\n\\n  fon...</td>\n",
       "    </tr>\n",
       "    <tr>\n",
       "      <th>7</th>\n",
       "      <td>Spam</td>\n",
       "      <td>&lt;HR&gt;\\n\\n&lt;html&gt;\\n\\n&lt;head&gt;\\n\\n  &lt;title&gt;Secured I...</td>\n",
       "    </tr>\n",
       "    <tr>\n",
       "      <th>8</th>\n",
       "      <td>Spam</td>\n",
       "      <td>&lt;table width=\"600\" border=\"20\" align=\"center\" ...</td>\n",
       "    </tr>\n",
       "    <tr>\n",
       "      <th>9</th>\n",
       "      <td>Spam</td>\n",
       "      <td>&lt;html&gt;\\n\\n\\n\\n&lt;head&gt;\\n\\n&lt;meta http-equiv=\"Cont...</td>\n",
       "    </tr>\n",
       "  </tbody>\n",
       "</table>\n",
       "</div>"
      ],
      "text/plain": [
       "  sentiment                                            MESSAGE\n",
       "0      Spam  Dear Homeowner,\\n\\n \\n\\nInterest Rates are at ...\n",
       "1      Spam  ATTENTION: This is a MUST for ALL Computer Use...\n",
       "2      Spam  This is a multi-part message in MIME format.\\n...\n",
       "3      Spam  IMPORTANT INFORMATION:\\n\\n\\n\\nThe new domain n...\n",
       "4      Spam  This is the bottom line.  If you can GIVE AWAY...\n",
       "5      Spam  ------=_NextPart_000_00B8_51E06B6A.C8586B31\\n\\...\n",
       "6      Spam  <STYLE type=\"text/css\">\\n\\n<!--\\n\\nP{\\n\\n  fon...\n",
       "7      Spam  <HR>\\n\\n<html>\\n\\n<head>\\n\\n  <title>Secured I...\n",
       "8      Spam  <table width=\"600\" border=\"20\" align=\"center\" ...\n",
       "9      Spam  <html>\\n\\n\\n\\n<head>\\n\\n<meta http-equiv=\"Cont..."
      ]
     },
     "execution_count": 14,
     "metadata": {},
     "output_type": "execute_result"
    }
   ],
   "source": [
    "df = df[['sentiment','MESSAGE']]\n",
    "df.head(10)"
   ]
  },
  {
   "cell_type": "code",
   "execution_count": 15,
   "id": "6202fba2-56ca-4a13-87f9-e476c1e60f17",
   "metadata": {
    "tags": []
   },
   "outputs": [
    {
     "data": {
      "text/html": [
       "<div>\n",
       "<style scoped>\n",
       "    .dataframe tbody tr th:only-of-type {\n",
       "        vertical-align: middle;\n",
       "    }\n",
       "\n",
       "    .dataframe tbody tr th {\n",
       "        vertical-align: top;\n",
       "    }\n",
       "\n",
       "    .dataframe thead th {\n",
       "        text-align: right;\n",
       "    }\n",
       "</style>\n",
       "<table border=\"1\" class=\"dataframe\">\n",
       "  <thead>\n",
       "    <tr style=\"text-align: right;\">\n",
       "      <th></th>\n",
       "      <th>sentiment</th>\n",
       "      <th>MESSAGE</th>\n",
       "    </tr>\n",
       "  </thead>\n",
       "  <tbody>\n",
       "    <tr>\n",
       "      <th>0</th>\n",
       "      <td>Spam</td>\n",
       "      <td>Dear Homeowner,\\n\\n \\n\\nInterest Rates are at ...</td>\n",
       "    </tr>\n",
       "    <tr>\n",
       "      <th>1</th>\n",
       "      <td>Spam</td>\n",
       "      <td>ATTENTION: This is a MUST for ALL Computer Use...</td>\n",
       "    </tr>\n",
       "    <tr>\n",
       "      <th>2</th>\n",
       "      <td>Spam</td>\n",
       "      <td>This is a multi-part message in MIME format.\\n...</td>\n",
       "    </tr>\n",
       "    <tr>\n",
       "      <th>3</th>\n",
       "      <td>Spam</td>\n",
       "      <td>IMPORTANT INFORMATION:\\n\\n\\n\\nThe new domain n...</td>\n",
       "    </tr>\n",
       "    <tr>\n",
       "      <th>4</th>\n",
       "      <td>Spam</td>\n",
       "      <td>This is the bottom line.  If you can GIVE AWAY...</td>\n",
       "    </tr>\n",
       "    <tr>\n",
       "      <th>...</th>\n",
       "      <td>...</td>\n",
       "      <td>...</td>\n",
       "    </tr>\n",
       "    <tr>\n",
       "      <th>5791</th>\n",
       "      <td>NotSpam</td>\n",
       "      <td>I'm one of the 30,000 but it's not working ver...</td>\n",
       "    </tr>\n",
       "    <tr>\n",
       "      <th>5792</th>\n",
       "      <td>NotSpam</td>\n",
       "      <td>Damien Morton quoted:\\n\\n&gt;W3C approves HTML 4 ...</td>\n",
       "    </tr>\n",
       "    <tr>\n",
       "      <th>5793</th>\n",
       "      <td>NotSpam</td>\n",
       "      <td>On Mon, 2002-07-22 at 06:50, che wrote:\\n\\n\\n\\...</td>\n",
       "    </tr>\n",
       "    <tr>\n",
       "      <th>5794</th>\n",
       "      <td>NotSpam</td>\n",
       "      <td>Once upon a time, Manfred wrote :\\n\\n\\n\\n&gt; I w...</td>\n",
       "    </tr>\n",
       "    <tr>\n",
       "      <th>5795</th>\n",
       "      <td>NotSpam</td>\n",
       "      <td>If you run Pick, and then use the \"New FTOC\" b...</td>\n",
       "    </tr>\n",
       "  </tbody>\n",
       "</table>\n",
       "<p>5796 rows × 2 columns</p>\n",
       "</div>"
      ],
      "text/plain": [
       "     sentiment                                            MESSAGE\n",
       "0         Spam  Dear Homeowner,\\n\\n \\n\\nInterest Rates are at ...\n",
       "1         Spam  ATTENTION: This is a MUST for ALL Computer Use...\n",
       "2         Spam  This is a multi-part message in MIME format.\\n...\n",
       "3         Spam  IMPORTANT INFORMATION:\\n\\n\\n\\nThe new domain n...\n",
       "4         Spam  This is the bottom line.  If you can GIVE AWAY...\n",
       "...        ...                                                ...\n",
       "5791   NotSpam  I'm one of the 30,000 but it's not working ver...\n",
       "5792   NotSpam  Damien Morton quoted:\\n\\n>W3C approves HTML 4 ...\n",
       "5793   NotSpam  On Mon, 2002-07-22 at 06:50, che wrote:\\n\\n\\n\\...\n",
       "5794   NotSpam  Once upon a time, Manfred wrote :\\n\\n\\n\\n> I w...\n",
       "5795   NotSpam  If you run Pick, and then use the \"New FTOC\" b...\n",
       "\n",
       "[5796 rows x 2 columns]"
      ]
     },
     "execution_count": 15,
     "metadata": {},
     "output_type": "execute_result"
    }
   ],
   "source": [
    "df"
   ]
  },
  {
   "cell_type": "code",
   "execution_count": 16,
   "id": "407d54d5-528b-43da-aafd-827dba63d5b4",
   "metadata": {
    "tags": []
   },
   "outputs": [
    {
     "name": "stderr",
     "output_type": "stream",
     "text": [
      "C:\\Users\\selcu\\AppData\\Local\\Temp\\ipykernel_10000\\3353004513.py:22: SettingWithCopyWarning: \n",
      "A value is trying to be set on a copy of a slice from a DataFrame.\n",
      "Try using .loc[row_indexer,col_indexer] = value instead\n",
      "\n",
      "See the caveats in the documentation: https://pandas.pydata.org/pandas-docs/stable/user_guide/indexing.html#returning-a-view-versus-a-copy\n",
      "  df['MESSAGE'] = df.MESSAGE.map(alphanumeric).map(http1).map(http2).map(at1).map(n1).map(ht_ml).map(n1).map(punc_lower).map(e2)\n"
     ]
    },
    {
     "data": {
      "text/html": [
       "<div>\n",
       "<style scoped>\n",
       "    .dataframe tbody tr th:only-of-type {\n",
       "        vertical-align: middle;\n",
       "    }\n",
       "\n",
       "    .dataframe tbody tr th {\n",
       "        vertical-align: top;\n",
       "    }\n",
       "\n",
       "    .dataframe thead th {\n",
       "        text-align: right;\n",
       "    }\n",
       "</style>\n",
       "<table border=\"1\" class=\"dataframe\">\n",
       "  <thead>\n",
       "    <tr style=\"text-align: right;\">\n",
       "      <th></th>\n",
       "      <th>sentiment</th>\n",
       "      <th>MESSAGE</th>\n",
       "    </tr>\n",
       "  </thead>\n",
       "  <tbody>\n",
       "    <tr>\n",
       "      <th>0</th>\n",
       "      <td>Spam</td>\n",
       "      <td>dear homeowner      interest rates are at thei...</td>\n",
       "    </tr>\n",
       "    <tr>\n",
       "      <th>1</th>\n",
       "      <td>Spam</td>\n",
       "      <td>attention  this is a must for all computer use...</td>\n",
       "    </tr>\n",
       "    <tr>\n",
       "      <th>2</th>\n",
       "      <td>Spam</td>\n",
       "      <td>this is a multi part message in mime format   ...</td>\n",
       "    </tr>\n",
       "    <tr>\n",
       "      <th>3</th>\n",
       "      <td>Spam</td>\n",
       "      <td>important information     the new domain names...</td>\n",
       "    </tr>\n",
       "    <tr>\n",
       "      <th>4</th>\n",
       "      <td>Spam</td>\n",
       "      <td>this is the bottom line   if you can give away...</td>\n",
       "    </tr>\n",
       "    <tr>\n",
       "      <th>5</th>\n",
       "      <td>Spam</td>\n",
       "      <td>content type  text plain  charset ...</td>\n",
       "    </tr>\n",
       "    <tr>\n",
       "      <th>6</th>\n",
       "      <td>Spam</td>\n",
       "      <td>hello this is chinese traditi...</td>\n",
       "    </tr>\n",
       "    <tr>\n",
       "      <th>7</th>\n",
       "      <td>Spam</td>\n",
       "      <td>secured investements              ...</td>\n",
       "    </tr>\n",
       "    <tr>\n",
       "      <th>8</th>\n",
       "      <td>Spam</td>\n",
       "      <td>click here now        simply ama...</td>\n",
       "    </tr>\n",
       "    <tr>\n",
       "      <th>9</th>\n",
       "      <td>Spam</td>\n",
       "      <td>answer us               n...</td>\n",
       "    </tr>\n",
       "  </tbody>\n",
       "</table>\n",
       "</div>"
      ],
      "text/plain": [
       "  sentiment                                            MESSAGE\n",
       "0      Spam  dear homeowner      interest rates are at thei...\n",
       "1      Spam  attention  this is a must for all computer use...\n",
       "2      Spam  this is a multi part message in mime format   ...\n",
       "3      Spam  important information     the new domain names...\n",
       "4      Spam  this is the bottom line   if you can give away...\n",
       "5      Spam              content type  text plain  charset ...\n",
       "6      Spam                   hello this is chinese traditi...\n",
       "7      Spam              secured investements              ...\n",
       "8      Spam                click here now        simply ama...\n",
       "9      Spam                       answer us               n..."
      ]
     },
     "execution_count": 16,
     "metadata": {},
     "output_type": "execute_result"
    }
   ],
   "source": [
    "import re\n",
    "import string\n",
    "# Yorumlar içerisinde geçen sayısal değer barındıran kelimeleri kaldırma\n",
    "alphanumeric = lambda x: re.sub('\\w*\\d\\w*', ' ', x)\n",
    "#\n",
    "http1 = lambda x: re.sub('http\\S+', ' ', x)\n",
    "#\n",
    "http2 = lambda x: re.sub('http', ' ', x)\n",
    "#\n",
    "at1 = lambda x: re.sub('@\\S+', ' ', x)\n",
    "#\n",
    "n1 = lambda x: re.sub('\\\\n', ' ', x)\n",
    "#\n",
    "isaret = lambda x: re.sub('[^A-Za-z0-9(),!?@\\'\\`\\\"\\_\\n]', ' ', x)\n",
    "#\n",
    "ht_ml = lambda x: re.sub('<[^>]+>', ' ', x)\n",
    "# Noktalama işaretlerini kaldırma ve tüm kelimeleri küçük harfe dönüştürme\n",
    "punc_lower = lambda x: re.sub('[%s]' % re.escape(string.punctuation), ' ', x.lower())\n",
    "#ingilizce olmayan karakterleri silme adına\n",
    "e2 = lambda x: re.sub('[^a-zA-Z]', ' ', x)\n",
    "\n",
    "df['MESSAGE'] = df.MESSAGE.map(alphanumeric).map(http1).map(http2).map(at1).map(n1).map(ht_ml).map(n1).map(punc_lower).map(e2)\n",
    "df.head(10)"
   ]
  },
  {
   "cell_type": "code",
   "execution_count": 17,
   "id": "427993a9-a9a3-493e-8d3e-c3123dbd4539",
   "metadata": {
    "tags": []
   },
   "outputs": [
    {
     "data": {
      "text/html": [
       "<div>\n",
       "<style scoped>\n",
       "    .dataframe tbody tr th:only-of-type {\n",
       "        vertical-align: middle;\n",
       "    }\n",
       "\n",
       "    .dataframe tbody tr th {\n",
       "        vertical-align: top;\n",
       "    }\n",
       "\n",
       "    .dataframe thead th {\n",
       "        text-align: right;\n",
       "    }\n",
       "</style>\n",
       "<table border=\"1\" class=\"dataframe\">\n",
       "  <thead>\n",
       "    <tr style=\"text-align: right;\">\n",
       "      <th></th>\n",
       "      <th>sentiment</th>\n",
       "      <th>MESSAGE</th>\n",
       "    </tr>\n",
       "  </thead>\n",
       "  <tbody>\n",
       "    <tr>\n",
       "      <th>230</th>\n",
       "      <td>Spam</td>\n",
       "      <td>free motorola cell phone with    cash back ...</td>\n",
       "    </tr>\n",
       "    <tr>\n",
       "      <th>231</th>\n",
       "      <td>Spam</td>\n",
       "      <td>b al   b vip mail      n a      bvip mail...</td>\n",
       "    </tr>\n",
       "    <tr>\n",
       "      <th>232</th>\n",
       "      <td>Spam</td>\n",
       "      <td>join the web s hottest   fastest growing co...</td>\n",
       "    </tr>\n",
       "    <tr>\n",
       "      <th>233</th>\n",
       "      <td>Spam</td>\n",
       "      <td>don t miss out on an amazing business opportun...</td>\n",
       "    </tr>\n",
       "    <tr>\n",
       "      <th>234</th>\n",
       "      <td>Spam</td>\n",
       "      <td>content type  text html  charset  ...</td>\n",
       "    </tr>\n",
       "    <tr>\n",
       "      <th>235</th>\n",
       "      <td>Spam</td>\n",
       "      <td>lose weight while ...</td>\n",
       "    </tr>\n",
       "    <tr>\n",
       "      <th>236</th>\n",
       "      <td>Spam</td>\n",
       "      <td>it was the spring of         i was just a tall...</td>\n",
       "    </tr>\n",
       "    <tr>\n",
       "      <th>237</th>\n",
       "      <td>Spam</td>\n",
       "      <td>request for urgent business assistance       ...</td>\n",
       "    </tr>\n",
       "    <tr>\n",
       "      <th>238</th>\n",
       "      <td>Spam</td>\n",
       "      <td>...</td>\n",
       "    </tr>\n",
       "    <tr>\n",
       "      <th>239</th>\n",
       "      <td>Spam</td>\n",
       "      <td>attention u s  homeowners        ...</td>\n",
       "    </tr>\n",
       "    <tr>\n",
       "      <th>240</th>\n",
       "      <td>Spam</td>\n",
       "      <td>lowest rates available for term life insurance...</td>\n",
       "    </tr>\n",
       "  </tbody>\n",
       "</table>\n",
       "</div>"
      ],
      "text/plain": [
       "    sentiment                                            MESSAGE\n",
       "230      Spam     free motorola cell phone with    cash back ...\n",
       "231      Spam       b al   b vip mail      n a      bvip mail...\n",
       "232      Spam     join the web s hottest   fastest growing co...\n",
       "233      Spam  don t miss out on an amazing business opportun...\n",
       "234      Spam              content type  text html  charset  ...\n",
       "235      Spam                              lose weight while ...\n",
       "236      Spam  it was the spring of         i was just a tall...\n",
       "237      Spam   request for urgent business assistance       ...\n",
       "238      Spam                                                ...\n",
       "239      Spam               attention u s  homeowners        ...\n",
       "240      Spam  lowest rates available for term life insurance..."
      ]
     },
     "execution_count": 17,
     "metadata": {},
     "output_type": "execute_result"
    }
   ],
   "source": [
    "df.iloc[230:241]"
   ]
  },
  {
   "cell_type": "code",
   "execution_count": 18,
   "id": "ca7aed53-9f66-46da-b9fa-6d05f76ffda6",
   "metadata": {
    "tags": []
   },
   "outputs": [
    {
     "data": {
      "text/plain": [
       "sentiment\n",
       "NotSpam    0.672878\n",
       "Spam       0.327122\n",
       "Name: proportion, dtype: float64"
      ]
     },
     "execution_count": 18,
     "metadata": {},
     "output_type": "execute_result"
    }
   ],
   "source": [
    "df.sentiment.value_counts(normalize=True)"
   ]
  },
  {
   "cell_type": "code",
   "execution_count": 19,
   "id": "58acd3f7-fb5e-4813-861b-2d98684431c6",
   "metadata": {
    "tags": []
   },
   "outputs": [
    {
     "name": "stdout",
     "output_type": "stream",
     "text": [
      "<class 'pandas.core.frame.DataFrame'>\n",
      "RangeIndex: 5796 entries, 0 to 5795\n",
      "Data columns (total 2 columns):\n",
      " #   Column     Non-Null Count  Dtype \n",
      "---  ------     --------------  ----- \n",
      " 0   sentiment  5796 non-null   object\n",
      " 1   MESSAGE    5796 non-null   object\n",
      "dtypes: object(2)\n",
      "memory usage: 90.7+ KB\n"
     ]
    }
   ],
   "source": [
    "df.info()"
   ]
  },
  {
   "cell_type": "markdown",
   "id": "b333414f-37f2-466a-be1e-7fdb04aa143e",
   "metadata": {},
   "source": [
    "## köklere inme işleminden önce kelimelere bir yazım düzeltme işlemi yapmadım çünkü bu hali ile modelleme sonucunda yeterli başarıyı verdi. nlp çalışması için hazırlanmış bir veri seti olmasından kaynaklı olabilir"
   ]
  },
  {
   "cell_type": "markdown",
   "id": "42e31a38-366a-4bea-ae08-45551f3395d8",
   "metadata": {},
   "source": [
    "## kelime köklerine inmek"
   ]
  },
  {
   "cell_type": "code",
   "execution_count": 20,
   "id": "9f0ed2f4-9c0f-4ecc-a2e9-3a04563f461b",
   "metadata": {},
   "outputs": [],
   "source": [
    "from nltk import SnowballStemmer\n",
    "\n",
    "sbs = SnowballStemmer(language='english')"
   ]
  },
  {
   "cell_type": "code",
   "execution_count": 21,
   "id": "34e43a31-0771-4e7a-913c-8580e25af069",
   "metadata": {},
   "outputs": [
    {
     "name": "stderr",
     "output_type": "stream",
     "text": [
      "C:\\Users\\selcu\\AppData\\Local\\Temp\\ipykernel_10000\\588719412.py:6: SettingWithCopyWarning: \n",
      "A value is trying to be set on a copy of a slice from a DataFrame.\n",
      "Try using .loc[row_indexer,col_indexer] = value instead\n",
      "\n",
      "See the caveats in the documentation: https://pandas.pydata.org/pandas-docs/stable/user_guide/indexing.html#returning-a-view-versus-a-copy\n",
      "  df.MESSAGE = df.MESSAGE.apply(stemmer)\n"
     ]
    }
   ],
   "source": [
    "def stemmer(text):\n",
    "    text = [sbs.stem(word) for word in text.split(' ')]\n",
    "    text = \" \".join(text)\n",
    "    return text\n",
    "\n",
    "df.MESSAGE = df.MESSAGE.apply(stemmer)"
   ]
  },
  {
   "cell_type": "code",
   "execution_count": 22,
   "id": "1857432e-0a51-4420-981c-26f79b05a12f",
   "metadata": {},
   "outputs": [
    {
     "data": {
      "text/html": [
       "<div>\n",
       "<style scoped>\n",
       "    .dataframe tbody tr th:only-of-type {\n",
       "        vertical-align: middle;\n",
       "    }\n",
       "\n",
       "    .dataframe tbody tr th {\n",
       "        vertical-align: top;\n",
       "    }\n",
       "\n",
       "    .dataframe thead th {\n",
       "        text-align: right;\n",
       "    }\n",
       "</style>\n",
       "<table border=\"1\" class=\"dataframe\">\n",
       "  <thead>\n",
       "    <tr style=\"text-align: right;\">\n",
       "      <th></th>\n",
       "      <th>sentiment</th>\n",
       "      <th>MESSAGE</th>\n",
       "    </tr>\n",
       "  </thead>\n",
       "  <tbody>\n",
       "    <tr>\n",
       "      <th>0</th>\n",
       "      <td>Spam</td>\n",
       "      <td>dear homeown      interest rate are at their l...</td>\n",
       "    </tr>\n",
       "    <tr>\n",
       "      <th>1</th>\n",
       "      <td>Spam</td>\n",
       "      <td>attent  this is a must for all comput user    ...</td>\n",
       "    </tr>\n",
       "    <tr>\n",
       "      <th>2</th>\n",
       "      <td>Spam</td>\n",
       "      <td>this is a multi part messag in mime format    ...</td>\n",
       "    </tr>\n",
       "    <tr>\n",
       "      <th>3</th>\n",
       "      <td>Spam</td>\n",
       "      <td>import inform     the new domain name are fina...</td>\n",
       "    </tr>\n",
       "    <tr>\n",
       "      <th>4</th>\n",
       "      <td>Spam</td>\n",
       "      <td>this is the bottom line   if you can give away...</td>\n",
       "    </tr>\n",
       "  </tbody>\n",
       "</table>\n",
       "</div>"
      ],
      "text/plain": [
       "  sentiment                                            MESSAGE\n",
       "0      Spam  dear homeown      interest rate are at their l...\n",
       "1      Spam  attent  this is a must for all comput user    ...\n",
       "2      Spam  this is a multi part messag in mime format    ...\n",
       "3      Spam  import inform     the new domain name are fina...\n",
       "4      Spam  this is the bottom line   if you can give away..."
      ]
     },
     "execution_count": 22,
     "metadata": {},
     "output_type": "execute_result"
    }
   ],
   "source": [
    "df.head()"
   ]
  },
  {
   "cell_type": "markdown",
   "id": "d85e9928-10c7-4cc3-a194-c8073f832497",
   "metadata": {},
   "source": [
    "## Tokenization & Model Oluşturma"
   ]
  },
  {
   "cell_type": "code",
   "execution_count": 23,
   "id": "19bd3d73-5f65-4432-b9f0-34c7206fb137",
   "metadata": {},
   "outputs": [],
   "source": [
    "X = df.MESSAGE\n",
    "y = df.sentiment"
   ]
  },
  {
   "cell_type": "code",
   "execution_count": 24,
   "id": "f1d825f2-1200-4568-a7e7-789d72dff427",
   "metadata": {},
   "outputs": [],
   "source": [
    "from sklearn.model_selection import train_test_split\n",
    "X_train, X_test, y_train, y_test = train_test_split(X, y, test_size=0.3, random_state=42)"
   ]
  },
  {
   "cell_type": "markdown",
   "id": "3edc9afc-672e-4943-bf01-9a683f98ab65",
   "metadata": {
    "tags": []
   },
   "source": [
    "##  CountVectorizer"
   ]
  },
  {
   "cell_type": "code",
   "execution_count": 25,
   "id": "15aad6b0-ec24-4230-b93c-8fce43ff15c1",
   "metadata": {},
   "outputs": [
    {
     "data": {
      "text/html": [
       "<div>\n",
       "<style scoped>\n",
       "    .dataframe tbody tr th:only-of-type {\n",
       "        vertical-align: middle;\n",
       "    }\n",
       "\n",
       "    .dataframe tbody tr th {\n",
       "        vertical-align: top;\n",
       "    }\n",
       "\n",
       "    .dataframe thead th {\n",
       "        text-align: right;\n",
       "    }\n",
       "</style>\n",
       "<table border=\"1\" class=\"dataframe\">\n",
       "  <thead>\n",
       "    <tr style=\"text-align: right;\">\n",
       "      <th></th>\n",
       "      <th>aa</th>\n",
       "      <th>aaaa</th>\n",
       "      <th>aaaaaa</th>\n",
       "      <th>aaaaaaa</th>\n",
       "      <th>aaaaaaaa</th>\n",
       "      <th>aaaaaaaaaaaa</th>\n",
       "      <th>aaaaaaaaaaaaaaaa</th>\n",
       "      <th>aaaaaaaaaaaaaaaaaaaa</th>\n",
       "      <th>aaaaaaaaaaaaaaaaaaaaaaaaaaaaaaaaaaaa</th>\n",
       "      <th>aaaaaaaaaaaaaaaaaaaaaaaaaaaaaaaaaaaaaaaaaaaaaaaaaaaaaaaaaaaaaa</th>\n",
       "      <th>...</th>\n",
       "      <th>zzjpgvfv</th>\n",
       "      <th>zzop</th>\n",
       "      <th>zzyovdirsvdirsvdir</th>\n",
       "      <th>zzza</th>\n",
       "      <th>zzzlist</th>\n",
       "      <th>zzzz</th>\n",
       "      <th>zzzzcard</th>\n",
       "      <th>zzzzcc</th>\n",
       "      <th>zzzzteana</th>\n",
       "      <th>zzzzv</th>\n",
       "    </tr>\n",
       "  </thead>\n",
       "  <tbody>\n",
       "    <tr>\n",
       "      <th>0</th>\n",
       "      <td>0</td>\n",
       "      <td>0</td>\n",
       "      <td>0</td>\n",
       "      <td>0</td>\n",
       "      <td>0</td>\n",
       "      <td>0</td>\n",
       "      <td>0</td>\n",
       "      <td>0</td>\n",
       "      <td>0</td>\n",
       "      <td>0</td>\n",
       "      <td>...</td>\n",
       "      <td>0</td>\n",
       "      <td>0</td>\n",
       "      <td>0</td>\n",
       "      <td>0</td>\n",
       "      <td>0</td>\n",
       "      <td>0</td>\n",
       "      <td>0</td>\n",
       "      <td>0</td>\n",
       "      <td>0</td>\n",
       "      <td>0</td>\n",
       "    </tr>\n",
       "    <tr>\n",
       "      <th>1</th>\n",
       "      <td>0</td>\n",
       "      <td>0</td>\n",
       "      <td>0</td>\n",
       "      <td>0</td>\n",
       "      <td>0</td>\n",
       "      <td>0</td>\n",
       "      <td>0</td>\n",
       "      <td>0</td>\n",
       "      <td>0</td>\n",
       "      <td>0</td>\n",
       "      <td>...</td>\n",
       "      <td>0</td>\n",
       "      <td>0</td>\n",
       "      <td>0</td>\n",
       "      <td>0</td>\n",
       "      <td>0</td>\n",
       "      <td>0</td>\n",
       "      <td>0</td>\n",
       "      <td>0</td>\n",
       "      <td>0</td>\n",
       "      <td>0</td>\n",
       "    </tr>\n",
       "    <tr>\n",
       "      <th>2</th>\n",
       "      <td>0</td>\n",
       "      <td>0</td>\n",
       "      <td>0</td>\n",
       "      <td>0</td>\n",
       "      <td>0</td>\n",
       "      <td>0</td>\n",
       "      <td>0</td>\n",
       "      <td>0</td>\n",
       "      <td>0</td>\n",
       "      <td>0</td>\n",
       "      <td>...</td>\n",
       "      <td>0</td>\n",
       "      <td>0</td>\n",
       "      <td>0</td>\n",
       "      <td>0</td>\n",
       "      <td>0</td>\n",
       "      <td>0</td>\n",
       "      <td>0</td>\n",
       "      <td>0</td>\n",
       "      <td>0</td>\n",
       "      <td>0</td>\n",
       "    </tr>\n",
       "    <tr>\n",
       "      <th>3</th>\n",
       "      <td>0</td>\n",
       "      <td>0</td>\n",
       "      <td>0</td>\n",
       "      <td>0</td>\n",
       "      <td>0</td>\n",
       "      <td>0</td>\n",
       "      <td>0</td>\n",
       "      <td>0</td>\n",
       "      <td>0</td>\n",
       "      <td>0</td>\n",
       "      <td>...</td>\n",
       "      <td>0</td>\n",
       "      <td>0</td>\n",
       "      <td>0</td>\n",
       "      <td>0</td>\n",
       "      <td>0</td>\n",
       "      <td>0</td>\n",
       "      <td>0</td>\n",
       "      <td>0</td>\n",
       "      <td>0</td>\n",
       "      <td>0</td>\n",
       "    </tr>\n",
       "    <tr>\n",
       "      <th>4</th>\n",
       "      <td>0</td>\n",
       "      <td>0</td>\n",
       "      <td>0</td>\n",
       "      <td>0</td>\n",
       "      <td>0</td>\n",
       "      <td>0</td>\n",
       "      <td>0</td>\n",
       "      <td>0</td>\n",
       "      <td>0</td>\n",
       "      <td>0</td>\n",
       "      <td>...</td>\n",
       "      <td>0</td>\n",
       "      <td>0</td>\n",
       "      <td>0</td>\n",
       "      <td>0</td>\n",
       "      <td>0</td>\n",
       "      <td>0</td>\n",
       "      <td>0</td>\n",
       "      <td>0</td>\n",
       "      <td>0</td>\n",
       "      <td>0</td>\n",
       "    </tr>\n",
       "  </tbody>\n",
       "</table>\n",
       "<p>5 rows × 28794 columns</p>\n",
       "</div>"
      ],
      "text/plain": [
       "   aa  aaaa  aaaaaa  aaaaaaa  aaaaaaaa  aaaaaaaaaaaa  aaaaaaaaaaaaaaaa  \\\n",
       "0   0     0       0        0         0             0                 0   \n",
       "1   0     0       0        0         0             0                 0   \n",
       "2   0     0       0        0         0             0                 0   \n",
       "3   0     0       0        0         0             0                 0   \n",
       "4   0     0       0        0         0             0                 0   \n",
       "\n",
       "   aaaaaaaaaaaaaaaaaaaa  aaaaaaaaaaaaaaaaaaaaaaaaaaaaaaaaaaaa  \\\n",
       "0                     0                                     0   \n",
       "1                     0                                     0   \n",
       "2                     0                                     0   \n",
       "3                     0                                     0   \n",
       "4                     0                                     0   \n",
       "\n",
       "   aaaaaaaaaaaaaaaaaaaaaaaaaaaaaaaaaaaaaaaaaaaaaaaaaaaaaaaaaaaaaa  ...  \\\n",
       "0                                                  0               ...   \n",
       "1                                                  0               ...   \n",
       "2                                                  0               ...   \n",
       "3                                                  0               ...   \n",
       "4                                                  0               ...   \n",
       "\n",
       "   zzjpgvfv  zzop  zzyovdirsvdirsvdir  zzza  zzzlist  zzzz  zzzzcard  zzzzcc  \\\n",
       "0         0     0                   0     0        0     0         0       0   \n",
       "1         0     0                   0     0        0     0         0       0   \n",
       "2         0     0                   0     0        0     0         0       0   \n",
       "3         0     0                   0     0        0     0         0       0   \n",
       "4         0     0                   0     0        0     0         0       0   \n",
       "\n",
       "   zzzzteana  zzzzv  \n",
       "0          0      0  \n",
       "1          0      0  \n",
       "2          0      0  \n",
       "3          0      0  \n",
       "4          0      0  \n",
       "\n",
       "[5 rows x 28794 columns]"
      ]
     },
     "execution_count": 25,
     "metadata": {},
     "output_type": "execute_result"
    }
   ],
   "source": [
    "from sklearn.feature_extraction.text import CountVectorizer\n",
    "\n",
    "cv1 = CountVectorizer(stop_words='english') # Stop wordsleri kaldırma\n",
    "\n",
    "# Train ve Test veri setlerine CountVectorizer uygulama\n",
    "X_train_cv1 = cv1.fit_transform(X_train)\n",
    "X_test_cv1  = cv1.transform(X_test)\n",
    "\n",
    "pd.DataFrame(X_train_cv1.toarray(), columns=cv1.get_feature_names_out()).head()"
   ]
  },
  {
   "cell_type": "code",
   "execution_count": 26,
   "id": "34ae3096-b623-4dbd-a945-5713ff01165f",
   "metadata": {},
   "outputs": [
    {
     "data": {
      "text/html": [
       "<div>\n",
       "<style scoped>\n",
       "    .dataframe tbody tr th:only-of-type {\n",
       "        vertical-align: middle;\n",
       "    }\n",
       "\n",
       "    .dataframe tbody tr th {\n",
       "        vertical-align: top;\n",
       "    }\n",
       "\n",
       "    .dataframe thead th {\n",
       "        text-align: right;\n",
       "    }\n",
       "</style>\n",
       "<table border=\"1\" class=\"dataframe\">\n",
       "  <thead>\n",
       "    <tr style=\"text-align: right;\">\n",
       "      <th></th>\n",
       "      <th>aa</th>\n",
       "      <th>aa aa</th>\n",
       "      <th>aa aaij</th>\n",
       "      <th>aa ab</th>\n",
       "      <th>aa ac</th>\n",
       "      <th>aa ad</th>\n",
       "      <th>aa ae</th>\n",
       "      <th>aa af</th>\n",
       "      <th>aa ba</th>\n",
       "      <th>aa bb</th>\n",
       "      <th>...</th>\n",
       "      <th>zzzzcc</th>\n",
       "      <th>zzzzcc john</th>\n",
       "      <th>zzzzcc viewmount</th>\n",
       "      <th>zzzzteana</th>\n",
       "      <th>zzzzteana fwd</th>\n",
       "      <th>zzzzteana mr</th>\n",
       "      <th>zzzzteana subject</th>\n",
       "      <th>zzzzteana van</th>\n",
       "      <th>zzzzv</th>\n",
       "      <th>zzzzv pexofhibogk</th>\n",
       "    </tr>\n",
       "  </thead>\n",
       "  <tbody>\n",
       "    <tr>\n",
       "      <th>0</th>\n",
       "      <td>0</td>\n",
       "      <td>0</td>\n",
       "      <td>0</td>\n",
       "      <td>0</td>\n",
       "      <td>0</td>\n",
       "      <td>0</td>\n",
       "      <td>0</td>\n",
       "      <td>0</td>\n",
       "      <td>0</td>\n",
       "      <td>0</td>\n",
       "      <td>...</td>\n",
       "      <td>0</td>\n",
       "      <td>0</td>\n",
       "      <td>0</td>\n",
       "      <td>0</td>\n",
       "      <td>0</td>\n",
       "      <td>0</td>\n",
       "      <td>0</td>\n",
       "      <td>0</td>\n",
       "      <td>0</td>\n",
       "      <td>0</td>\n",
       "    </tr>\n",
       "    <tr>\n",
       "      <th>1</th>\n",
       "      <td>0</td>\n",
       "      <td>0</td>\n",
       "      <td>0</td>\n",
       "      <td>0</td>\n",
       "      <td>0</td>\n",
       "      <td>0</td>\n",
       "      <td>0</td>\n",
       "      <td>0</td>\n",
       "      <td>0</td>\n",
       "      <td>0</td>\n",
       "      <td>...</td>\n",
       "      <td>0</td>\n",
       "      <td>0</td>\n",
       "      <td>0</td>\n",
       "      <td>0</td>\n",
       "      <td>0</td>\n",
       "      <td>0</td>\n",
       "      <td>0</td>\n",
       "      <td>0</td>\n",
       "      <td>0</td>\n",
       "      <td>0</td>\n",
       "    </tr>\n",
       "    <tr>\n",
       "      <th>2</th>\n",
       "      <td>0</td>\n",
       "      <td>0</td>\n",
       "      <td>0</td>\n",
       "      <td>0</td>\n",
       "      <td>0</td>\n",
       "      <td>0</td>\n",
       "      <td>0</td>\n",
       "      <td>0</td>\n",
       "      <td>0</td>\n",
       "      <td>0</td>\n",
       "      <td>...</td>\n",
       "      <td>0</td>\n",
       "      <td>0</td>\n",
       "      <td>0</td>\n",
       "      <td>0</td>\n",
       "      <td>0</td>\n",
       "      <td>0</td>\n",
       "      <td>0</td>\n",
       "      <td>0</td>\n",
       "      <td>0</td>\n",
       "      <td>0</td>\n",
       "    </tr>\n",
       "    <tr>\n",
       "      <th>3</th>\n",
       "      <td>0</td>\n",
       "      <td>0</td>\n",
       "      <td>0</td>\n",
       "      <td>0</td>\n",
       "      <td>0</td>\n",
       "      <td>0</td>\n",
       "      <td>0</td>\n",
       "      <td>0</td>\n",
       "      <td>0</td>\n",
       "      <td>0</td>\n",
       "      <td>...</td>\n",
       "      <td>0</td>\n",
       "      <td>0</td>\n",
       "      <td>0</td>\n",
       "      <td>0</td>\n",
       "      <td>0</td>\n",
       "      <td>0</td>\n",
       "      <td>0</td>\n",
       "      <td>0</td>\n",
       "      <td>0</td>\n",
       "      <td>0</td>\n",
       "    </tr>\n",
       "    <tr>\n",
       "      <th>4</th>\n",
       "      <td>0</td>\n",
       "      <td>0</td>\n",
       "      <td>0</td>\n",
       "      <td>0</td>\n",
       "      <td>0</td>\n",
       "      <td>0</td>\n",
       "      <td>0</td>\n",
       "      <td>0</td>\n",
       "      <td>0</td>\n",
       "      <td>0</td>\n",
       "      <td>...</td>\n",
       "      <td>0</td>\n",
       "      <td>0</td>\n",
       "      <td>0</td>\n",
       "      <td>0</td>\n",
       "      <td>0</td>\n",
       "      <td>0</td>\n",
       "      <td>0</td>\n",
       "      <td>0</td>\n",
       "      <td>0</td>\n",
       "      <td>0</td>\n",
       "    </tr>\n",
       "  </tbody>\n",
       "</table>\n",
       "<p>5 rows × 297926 columns</p>\n",
       "</div>"
      ],
      "text/plain": [
       "   aa  aa aa  aa aaij  aa ab  aa ac  aa ad  aa ae  aa af  aa ba  aa bb  ...  \\\n",
       "0   0      0        0      0      0      0      0      0      0      0  ...   \n",
       "1   0      0        0      0      0      0      0      0      0      0  ...   \n",
       "2   0      0        0      0      0      0      0      0      0      0  ...   \n",
       "3   0      0        0      0      0      0      0      0      0      0  ...   \n",
       "4   0      0        0      0      0      0      0      0      0      0  ...   \n",
       "\n",
       "   zzzzcc  zzzzcc john  zzzzcc viewmount  zzzzteana  zzzzteana fwd  \\\n",
       "0       0            0                 0          0              0   \n",
       "1       0            0                 0          0              0   \n",
       "2       0            0                 0          0              0   \n",
       "3       0            0                 0          0              0   \n",
       "4       0            0                 0          0              0   \n",
       "\n",
       "   zzzzteana mr  zzzzteana subject  zzzzteana van  zzzzv  zzzzv pexofhibogk  \n",
       "0             0                  0              0      0                  0  \n",
       "1             0                  0              0      0                  0  \n",
       "2             0                  0              0      0                  0  \n",
       "3             0                  0              0      0                  0  \n",
       "4             0                  0              0      0                  0  \n",
       "\n",
       "[5 rows x 297926 columns]"
      ]
     },
     "execution_count": 26,
     "metadata": {},
     "output_type": "execute_result"
    }
   ],
   "source": [
    "# 2'li N-Gram yöntemini kullanarak tokenize etme\n",
    "cv2 = CountVectorizer(ngram_range=(1,2), binary=True, stop_words='english')\n",
    "\n",
    "X_train_cv2 = cv2.fit_transform(X_train)\n",
    "X_test_cv2  = cv2.transform(X_test)\n",
    "\n",
    "pd.DataFrame(X_train_cv2.toarray(), columns=cv2.get_feature_names_out()).head()"
   ]
  },
  {
   "cell_type": "code",
   "execution_count": 27,
   "id": "9cfd8ec4-0198-43e2-8e69-a5e91b815f16",
   "metadata": {},
   "outputs": [],
   "source": [
    "from sklearn.linear_model import LogisticRegression\n",
    "lr = LogisticRegression()"
   ]
  },
  {
   "cell_type": "code",
   "execution_count": 28,
   "id": "88a653e7-5715-4734-8165-b1674d8cb2c6",
   "metadata": {},
   "outputs": [],
   "source": [
    "# Kelimelere ayırarak oluşturulan DataFrame\n",
    "lr.fit(X_train_cv1, y_train)\n",
    "y_pred_cv1 = lr.predict(X_test_cv1)"
   ]
  },
  {
   "cell_type": "code",
   "execution_count": 29,
   "id": "98a65f33-4d53-4973-9397-be38d298cd7a",
   "metadata": {},
   "outputs": [],
   "source": [
    "# 2'li N-Gram yöntemi kullanılarak oluşturulan DataFrame\n",
    "lr.fit(X_train_cv2, y_train)\n",
    "y_pred_cv2 = lr.predict(X_test_cv2)"
   ]
  },
  {
   "cell_type": "code",
   "execution_count": 30,
   "id": "a22dac5f-294b-414d-b61c-00c7ef993685",
   "metadata": {},
   "outputs": [],
   "source": [
    "from sklearn.metrics import confusion_matrix\n",
    "import matplotlib.pyplot as plt\n",
    "import seaborn as sns\n",
    "from sklearn.metrics import accuracy_score, precision_score, recall_score, f1_score\n",
    "\n",
    "def conf_matrix(actual, predicted):\n",
    "    plt.figure(figsize=[8,8])\n",
    "    cm = confusion_matrix(actual, predicted)\n",
    "    sns.heatmap(cm, xticklabels=['Predicted NotSpam', 'Predicted Spam'], \n",
    "                yticklabels=['Actual NotSpam', 'Actual Spam'], annot=True,\n",
    "                fmt='d',cmap='Oranges' ,annot_kws={'fontsize':35}, square=True);\n",
    "\n",
    "    accuracy = accuracy_score(actual, predicted)\n",
    "    precision = precision_score(actual, predicted, pos_label='Spam', zero_division=1)\n",
    "    recall = recall_score(actual, predicted, pos_label='Spam', zero_division=1)\n",
    "    f1 = f1_score(actual, predicted, pos_label='Spam', zero_division=1)\n",
    "    # pos_label parametresi precision, recall ve f1 score unu görmek istediğimiz labelı soruyor\n",
    "    # zero_division parametresi 0'a bölme işlemini gerçekleşirse uyarı verip vermeyeceğini soruyor (1=uyarı verme)\n",
    "\n",
    "    cm_results = [accuracy, precision, recall, f1]\n",
    "    return cm_results"
   ]
  },
  {
   "cell_type": "code",
   "execution_count": 31,
   "id": "22747ed3-fe16-483c-8685-39762acc1450",
   "metadata": {},
   "outputs": [
    {
     "data": {
      "image/png": "[encoded data removed]",
      "text/plain": [
       "<Figure size 800x800 with 2 Axes>"
      ]
     },
     "metadata": {},
     "output_type": "display_data"
    }
   ],
   "source": [
    "# İlk modelimizden elde ettiğimiz hata matrisi\n",
    "cm1 = conf_matrix(y_test, y_pred_cv1)"
   ]
  },
  {
   "cell_type": "code",
   "execution_count": 32,
   "id": "f53f97c7-303c-4aea-a6e8-d5747b7aa7fb",
   "metadata": {},
   "outputs": [
    {
     "data": {
      "image/png": "[encoded data removed]",
      "text/plain": [
       "<Figure size 800x800 with 2 Axes>"
      ]
     },
     "metadata": {},
     "output_type": "display_data"
    }
   ],
   "source": [
    "# İkinci modelimizden elde ettiğimiz hata matrisi\n",
    "cm2 = conf_matrix(y_test, y_pred_cv2)"
   ]
  },
  {
   "cell_type": "code",
   "execution_count": 33,
   "id": "8f1fb1bc-31dd-45a1-b011-74aca6104d97",
   "metadata": {},
   "outputs": [
    {
     "data": {
      "text/html": [
       "<div>\n",
       "<style scoped>\n",
       "    .dataframe tbody tr th:only-of-type {\n",
       "        vertical-align: middle;\n",
       "    }\n",
       "\n",
       "    .dataframe tbody tr th {\n",
       "        vertical-align: top;\n",
       "    }\n",
       "\n",
       "    .dataframe thead th {\n",
       "        text-align: right;\n",
       "    }\n",
       "</style>\n",
       "<table border=\"1\" class=\"dataframe\">\n",
       "  <thead>\n",
       "    <tr style=\"text-align: right;\">\n",
       "      <th></th>\n",
       "      <th>LR(Word)-CV</th>\n",
       "      <th>LR(N-Grams)-CV</th>\n",
       "    </tr>\n",
       "  </thead>\n",
       "  <tbody>\n",
       "    <tr>\n",
       "      <th>Accuracy</th>\n",
       "      <td>0.984474</td>\n",
       "      <td>0.984474</td>\n",
       "    </tr>\n",
       "    <tr>\n",
       "      <th>Precision</th>\n",
       "      <td>0.983250</td>\n",
       "      <td>0.984874</td>\n",
       "    </tr>\n",
       "    <tr>\n",
       "      <th>Recall</th>\n",
       "      <td>0.971854</td>\n",
       "      <td>0.970199</td>\n",
       "    </tr>\n",
       "    <tr>\n",
       "      <th>F1 Score</th>\n",
       "      <td>0.977519</td>\n",
       "      <td>0.977481</td>\n",
       "    </tr>\n",
       "  </tbody>\n",
       "</table>\n",
       "</div>"
      ],
      "text/plain": [
       "           LR(Word)-CV  LR(N-Grams)-CV\n",
       "Accuracy      0.984474        0.984474\n",
       "Precision     0.983250        0.984874\n",
       "Recall        0.971854        0.970199\n",
       "F1 Score      0.977519        0.977481"
      ]
     },
     "execution_count": 33,
     "metadata": {},
     "output_type": "execute_result"
    }
   ],
   "source": [
    "results = pd.DataFrame(list(zip(cm1, cm2)))\n",
    "results = results.set_index([['Accuracy', 'Precision', 'Recall', 'F1 Score']])\n",
    "results.columns = ['LR(Word)-CV', 'LR(N-Grams)-CV']\n",
    "results"
   ]
  },
  {
   "cell_type": "code",
   "execution_count": 34,
   "id": "481515b4-f09d-432b-ac58-1327c0410992",
   "metadata": {},
   "outputs": [],
   "source": [
    "# İlk olarak MultinomialNB algoritmasıyla modellerimizi eğitelim\n",
    "from sklearn.naive_bayes import MultinomialNB\n",
    "\n",
    "mnb1 = MultinomialNB()\n",
    "mnb1.fit(X_train_cv1, y_train)\n",
    "\n",
    "mnb2 = MultinomialNB()\n",
    "mnb2.fit(X_train_cv2, y_train)\n",
    "\n",
    "y_pred_cv1_mnb = mnb1.predict(X_test_cv1)\n",
    "y_pred_cv2_mnb = mnb2.predict(X_test_cv2)"
   ]
  },
  {
   "cell_type": "code",
   "execution_count": 35,
   "id": "66330c4e-6434-4b63-a5fe-7d7325c8ba3a",
   "metadata": {},
   "outputs": [],
   "source": [
    "# Ardından da BernoulliNB algoritmasıyla\n",
    "from sklearn.naive_bayes import BernoulliNB\n",
    "\n",
    "bnb1 = BernoulliNB()\n",
    "bnb1.fit(X_train_cv1, y_train)\n",
    "\n",
    "bnb2 = BernoulliNB()\n",
    "bnb2.fit(X_train_cv2, y_train)\n",
    "\n",
    "y_pred_cv1_bnb = bnb1.predict(X_test_cv1)\n",
    "y_pred_cv2_bnb = bnb2.predict(X_test_cv2)"
   ]
  },
  {
   "cell_type": "code",
   "execution_count": 36,
   "id": "d1250db4-5adf-4ef2-9da0-c6afdd5d966a",
   "metadata": {},
   "outputs": [
    {
     "data": {
      "image/png": "[encoded data removed]",
      "text/plain": [
       "<Figure size 800x800 with 2 Axes>"
      ]
     },
     "metadata": {},
     "output_type": "display_data"
    }
   ],
   "source": [
    "# MultinomialNB & Kelime\n",
    "cm3 = conf_matrix(y_test, y_pred_cv1_mnb)"
   ]
  },
  {
   "cell_type": "code",
   "execution_count": 37,
   "id": "4aa0ace2-ac36-4121-891e-e781aa2e02bc",
   "metadata": {},
   "outputs": [
    {
     "data": {
      "image/png": "[encoded data removed]",
      "text/plain": [
       "<Figure size 800x800 with 2 Axes>"
      ]
     },
     "metadata": {},
     "output_type": "display_data"
    }
   ],
   "source": [
    "# MultinomialNB & 2'li N-Grams\n",
    "cm4 = conf_matrix(y_test, y_pred_cv2_mnb)"
   ]
  },
  {
   "cell_type": "code",
   "execution_count": 38,
   "id": "f148ef03-993c-4d2b-ab1d-c7cb207fb51b",
   "metadata": {},
   "outputs": [
    {
     "data": {
      "image/png": "[encoded data removed]",
      "text/plain": [
       "<Figure size 800x800 with 2 Axes>"
      ]
     },
     "metadata": {},
     "output_type": "display_data"
    }
   ],
   "source": [
    "# BernoulliNB & Kelime\n",
    "cm5 = conf_matrix(y_test, y_pred_cv1_bnb)"
   ]
  },
  {
   "cell_type": "code",
   "execution_count": 39,
   "id": "70c7374c-59af-4ba8-82e4-16be48ad9d5a",
   "metadata": {
    "tags": []
   },
   "outputs": [
    {
     "data": {
      "image/png": "[encoded data removed]",
      "text/plain": [
       "<Figure size 800x800 with 2 Axes>"
      ]
     },
     "metadata": {},
     "output_type": "display_data"
    }
   ],
   "source": [
    "# BernoulliNB & 2'li N-Grams\n",
    "cm6 = conf_matrix(y_test, y_pred_cv2_bnb)"
   ]
  },
  {
   "cell_type": "code",
   "execution_count": 40,
   "id": "dbdab732-42d0-4896-9a62-c23dc57052fc",
   "metadata": {
    "tags": []
   },
   "outputs": [
    {
     "data": {
      "text/html": [
       "<div>\n",
       "<style scoped>\n",
       "    .dataframe tbody tr th:only-of-type {\n",
       "        vertical-align: middle;\n",
       "    }\n",
       "\n",
       "    .dataframe tbody tr th {\n",
       "        vertical-align: top;\n",
       "    }\n",
       "\n",
       "    .dataframe thead th {\n",
       "        text-align: right;\n",
       "    }\n",
       "</style>\n",
       "<table border=\"1\" class=\"dataframe\">\n",
       "  <thead>\n",
       "    <tr style=\"text-align: right;\">\n",
       "      <th></th>\n",
       "      <th>LR(Word)-CV</th>\n",
       "      <th>LR(N-Grams)-CV</th>\n",
       "      <th>MNB(Word)-CV</th>\n",
       "      <th>MNB(N-Grams)-CV</th>\n",
       "      <th>BNB(Word)-CV</th>\n",
       "      <th>BNB(N-Grams)-CV</th>\n",
       "    </tr>\n",
       "  </thead>\n",
       "  <tbody>\n",
       "    <tr>\n",
       "      <th>Accuracy</th>\n",
       "      <td>0.984474</td>\n",
       "      <td>0.984474</td>\n",
       "      <td>0.983324</td>\n",
       "      <td>0.990224</td>\n",
       "      <td>0.887867</td>\n",
       "      <td>0.816561</td>\n",
       "    </tr>\n",
       "    <tr>\n",
       "      <th>Precision</th>\n",
       "      <td>0.983250</td>\n",
       "      <td>0.984874</td>\n",
       "      <td>0.984823</td>\n",
       "      <td>0.994941</td>\n",
       "      <td>0.957494</td>\n",
       "      <td>0.989691</td>\n",
       "    </tr>\n",
       "    <tr>\n",
       "      <th>Recall</th>\n",
       "      <td>0.971854</td>\n",
       "      <td>0.970199</td>\n",
       "      <td>0.966887</td>\n",
       "      <td>0.976821</td>\n",
       "      <td>0.708609</td>\n",
       "      <td>0.476821</td>\n",
       "    </tr>\n",
       "    <tr>\n",
       "      <th>F1 Score</th>\n",
       "      <td>0.977519</td>\n",
       "      <td>0.977481</td>\n",
       "      <td>0.975773</td>\n",
       "      <td>0.985798</td>\n",
       "      <td>0.814462</td>\n",
       "      <td>0.643575</td>\n",
       "    </tr>\n",
       "  </tbody>\n",
       "</table>\n",
       "</div>"
      ],
      "text/plain": [
       "           LR(Word)-CV  LR(N-Grams)-CV  MNB(Word)-CV  MNB(N-Grams)-CV  \\\n",
       "Accuracy      0.984474        0.984474      0.983324         0.990224   \n",
       "Precision     0.983250        0.984874      0.984823         0.994941   \n",
       "Recall        0.971854        0.970199      0.966887         0.976821   \n",
       "F1 Score      0.977519        0.977481      0.975773         0.985798   \n",
       "\n",
       "           BNB(Word)-CV  BNB(N-Grams)-CV  \n",
       "Accuracy       0.887867         0.816561  \n",
       "Precision      0.957494         0.989691  \n",
       "Recall         0.708609         0.476821  \n",
       "F1 Score       0.814462         0.643575  "
      ]
     },
     "execution_count": 40,
     "metadata": {},
     "output_type": "execute_result"
    }
   ],
   "source": [
    "results_nb = pd.DataFrame(list(zip(cm3, cm4, cm5, cm6)))\n",
    "results_nb = results_nb.set_index([['Accuracy', 'Precision', 'Recall', 'F1 Score']])\n",
    "results_nb.columns = ['MNB(Word)-CV', 'MNB(N-Grams)-CV', 'BNB(Word)-CV', 'BNB(N-Grams)-CV']\n",
    "results_nb\n",
    "\n",
    "results = pd.concat([results, results_nb], axis=1)\n",
    "results"
   ]
  },
  {
   "cell_type": "markdown",
   "id": "a220e8d0-1019-4620-aeec-13dbad8e4f9e",
   "metadata": {},
   "source": [
    "## TFIDF-Vectorizer"
   ]
  },
  {
   "cell_type": "code",
   "execution_count": 41,
   "id": "c78869ff-c78c-436f-9d58-8e042d12d65d",
   "metadata": {
    "tags": []
   },
   "outputs": [],
   "source": [
    "from sklearn.feature_extraction.text import TfidfVectorizer\n",
    "\n",
    "tfidf1 = TfidfVectorizer(stop_words='english')\n",
    "X_train_tfidf1 = tfidf1.fit_transform(X_train)\n",
    "X_test_tfidf1  = tfidf1.transform(X_test)\n",
    "\n",
    "tfidf2 = TfidfVectorizer(ngram_range=(1,2), binary=True, stop_words='english')\n",
    "X_train_tfidf2 = tfidf2.fit_transform(X_train)\n",
    "X_test_tfidf2  = tfidf2.transform(X_test)"
   ]
  },
  {
   "cell_type": "code",
   "execution_count": 42,
   "id": "cd7261aa-239b-4ec5-a5db-ca3933ac8030",
   "metadata": {
    "tags": []
   },
   "outputs": [
    {
     "data": {
      "image/png": "[encoded data removed]",
      "text/plain": [
       "<Figure size 800x800 with 2 Axes>"
      ]
     },
     "metadata": {},
     "output_type": "display_data"
    }
   ],
   "source": [
    "lr.fit(X_train_tfidf1, y_train)\n",
    "y_pred_tfidf1_lr = lr.predict(X_test_tfidf1)\n",
    "\n",
    "# Logistic Regresyon & Kelime\n",
    "cm7 = conf_matrix(y_test, y_pred_tfidf1_lr)"
   ]
  },
  {
   "cell_type": "code",
   "execution_count": 43,
   "id": "ebb59c50-a4db-4b8f-a8b3-3203f258fe63",
   "metadata": {
    "tags": []
   },
   "outputs": [
    {
     "data": {
      "image/png": "[encoded data removed]",
      "text/plain": [
       "<Figure size 800x800 with 2 Axes>"
      ]
     },
     "metadata": {},
     "output_type": "display_data"
    }
   ],
   "source": [
    "lr.fit(X_train_tfidf2, y_train)\n",
    "y_pred_tfidf2_lr = lr.predict(X_test_tfidf2)\n",
    "\n",
    "# Logistic Regresyon & 2'li N-Grams\n",
    "cm8 = conf_matrix(y_test, y_pred_tfidf2_lr)"
   ]
  },
  {
   "cell_type": "code",
   "execution_count": 44,
   "id": "7aa525e3-21d7-47eb-b0ad-3d1f098ef1a1",
   "metadata": {
    "tags": []
   },
   "outputs": [
    {
     "data": {
      "image/png": "[encoded data removed]",
      "text/plain": [
       "<Figure size 800x800 with 2 Axes>"
      ]
     },
     "metadata": {},
     "output_type": "display_data"
    }
   ],
   "source": [
    "mnb1.fit(X_train_tfidf1.toarray(), y_train)\n",
    "y_pred_tfidf1_mnb = mnb1.predict(X_test_tfidf1)\n",
    "\n",
    "# MultinominalNB & Kelime\n",
    "cm9 = conf_matrix(y_test, y_pred_tfidf1_mnb)"
   ]
  },
  {
   "cell_type": "code",
   "execution_count": 45,
   "id": "d03df796-4d16-499d-a277-3946ceaf8c6c",
   "metadata": {
    "tags": []
   },
   "outputs": [
    {
     "data": {
      "image/png": "[encoded data removed]",
      "text/plain": [
       "<Figure size 800x800 with 2 Axes>"
      ]
     },
     "metadata": {},
     "output_type": "display_data"
    }
   ],
   "source": [
    "mnb2.fit(X_train_tfidf1.toarray(), y_train)\n",
    "y_pred_tfidf2_mnb = mnb2.predict(X_test_tfidf1)\n",
    "\n",
    "# MultinominalNB & 2'li N-Grams\n",
    "cm10 = conf_matrix(y_test, y_pred_tfidf2_mnb)"
   ]
  },
  {
   "cell_type": "code",
   "execution_count": 46,
   "id": "c312a21f-f947-427f-8e20-af7e1bf4f339",
   "metadata": {
    "tags": []
   },
   "outputs": [
    {
     "data": {
      "image/png": "[encoded data removed]",
      "text/plain": [
       "<Figure size 800x800 with 2 Axes>"
      ]
     },
     "metadata": {},
     "output_type": "display_data"
    }
   ],
   "source": [
    "bnb1.fit(X_train_tfidf2.toarray(), y_train)\n",
    "y_pred_tfidf1_bnb = bnb1.predict(X_test_tfidf2)\n",
    "\n",
    "# BernoulliNB & Kelime\n",
    "cm11 = conf_matrix(y_test, y_pred_tfidf1_bnb)"
   ]
  },
  {
   "cell_type": "code",
   "execution_count": 47,
   "id": "95fe2155-599c-4f3f-9d32-59a694eb89ec",
   "metadata": {
    "tags": []
   },
   "outputs": [
    {
     "data": {
      "image/png": "[encoded data removed]",
      "text/plain": [
       "<Figure size 800x800 with 2 Axes>"
      ]
     },
     "metadata": {},
     "output_type": "display_data"
    }
   ],
   "source": [
    "bnb2.fit(X_train_tfidf2.toarray(), y_train)\n",
    "y_pred_tfidf2_bnb = bnb2.predict(X_test_tfidf2)\n",
    "\n",
    "# BernoulliNB & 2'li N-Grams\n",
    "cm12 = conf_matrix(y_test, y_pred_tfidf2_bnb)"
   ]
  },
  {
   "cell_type": "code",
   "execution_count": 48,
   "id": "32a4390a-0c78-4c3c-9a26-a97bfa2f9fe0",
   "metadata": {
    "tags": []
   },
   "outputs": [
    {
     "data": {
      "text/html": [
       "<div>\n",
       "<style scoped>\n",
       "    .dataframe tbody tr th:only-of-type {\n",
       "        vertical-align: middle;\n",
       "    }\n",
       "\n",
       "    .dataframe tbody tr th {\n",
       "        vertical-align: top;\n",
       "    }\n",
       "\n",
       "    .dataframe thead th {\n",
       "        text-align: right;\n",
       "    }\n",
       "</style>\n",
       "<table border=\"1\" class=\"dataframe\">\n",
       "  <thead>\n",
       "    <tr style=\"text-align: right;\">\n",
       "      <th></th>\n",
       "      <th>LR(Word)-CV</th>\n",
       "      <th>LR(N-Grams)-CV</th>\n",
       "      <th>MNB(Word)-CV</th>\n",
       "      <th>MNB(N-Grams)-CV</th>\n",
       "      <th>BNB(Word)-CV</th>\n",
       "      <th>BNB(N-Grams)-CV</th>\n",
       "      <th>LR(Word)-TFIDF</th>\n",
       "      <th>LR(N-Grams)-TFIDF</th>\n",
       "      <th>MNB(Word)-TFIDF</th>\n",
       "      <th>MNB(N-Grams)-TFIDF</th>\n",
       "      <th>BNB(Word)-TFIDF</th>\n",
       "      <th>BNB(N-Grams)-TFIDF</th>\n",
       "    </tr>\n",
       "  </thead>\n",
       "  <tbody>\n",
       "    <tr>\n",
       "      <th>Accuracy</th>\n",
       "      <td>0.984474</td>\n",
       "      <td>0.984474</td>\n",
       "      <td>0.983324</td>\n",
       "      <td>0.990224</td>\n",
       "      <td>0.887867</td>\n",
       "      <td>0.816561</td>\n",
       "      <td>0.972973</td>\n",
       "      <td>0.970098</td>\n",
       "      <td>0.960322</td>\n",
       "      <td>0.960322</td>\n",
       "      <td>0.816561</td>\n",
       "      <td>0.816561</td>\n",
       "    </tr>\n",
       "    <tr>\n",
       "      <th>Precision</th>\n",
       "      <td>0.983250</td>\n",
       "      <td>0.984874</td>\n",
       "      <td>0.984823</td>\n",
       "      <td>0.994941</td>\n",
       "      <td>0.957494</td>\n",
       "      <td>0.989691</td>\n",
       "      <td>0.991182</td>\n",
       "      <td>0.987633</td>\n",
       "      <td>0.994455</td>\n",
       "      <td>0.994455</td>\n",
       "      <td>0.989691</td>\n",
       "      <td>0.989691</td>\n",
       "    </tr>\n",
       "    <tr>\n",
       "      <th>Recall</th>\n",
       "      <td>0.971854</td>\n",
       "      <td>0.970199</td>\n",
       "      <td>0.966887</td>\n",
       "      <td>0.976821</td>\n",
       "      <td>0.708609</td>\n",
       "      <td>0.476821</td>\n",
       "      <td>0.930464</td>\n",
       "      <td>0.925497</td>\n",
       "      <td>0.890728</td>\n",
       "      <td>0.890728</td>\n",
       "      <td>0.476821</td>\n",
       "      <td>0.476821</td>\n",
       "    </tr>\n",
       "    <tr>\n",
       "      <th>F1 Score</th>\n",
       "      <td>0.977519</td>\n",
       "      <td>0.977481</td>\n",
       "      <td>0.975773</td>\n",
       "      <td>0.985798</td>\n",
       "      <td>0.814462</td>\n",
       "      <td>0.643575</td>\n",
       "      <td>0.959863</td>\n",
       "      <td>0.955556</td>\n",
       "      <td>0.939738</td>\n",
       "      <td>0.939738</td>\n",
       "      <td>0.643575</td>\n",
       "      <td>0.643575</td>\n",
       "    </tr>\n",
       "  </tbody>\n",
       "</table>\n",
       "</div>"
      ],
      "text/plain": [
       "           LR(Word)-CV  LR(N-Grams)-CV  MNB(Word)-CV  MNB(N-Grams)-CV  \\\n",
       "Accuracy      0.984474        0.984474      0.983324         0.990224   \n",
       "Precision     0.983250        0.984874      0.984823         0.994941   \n",
       "Recall        0.971854        0.970199      0.966887         0.976821   \n",
       "F1 Score      0.977519        0.977481      0.975773         0.985798   \n",
       "\n",
       "           BNB(Word)-CV  BNB(N-Grams)-CV  LR(Word)-TFIDF  LR(N-Grams)-TFIDF  \\\n",
       "Accuracy       0.887867         0.816561        0.972973           0.970098   \n",
       "Precision      0.957494         0.989691        0.991182           0.987633   \n",
       "Recall         0.708609         0.476821        0.930464           0.925497   \n",
       "F1 Score       0.814462         0.643575        0.959863           0.955556   \n",
       "\n",
       "           MNB(Word)-TFIDF  MNB(N-Grams)-TFIDF  BNB(Word)-TFIDF  \\\n",
       "Accuracy          0.960322            0.960322         0.816561   \n",
       "Precision         0.994455            0.994455         0.989691   \n",
       "Recall            0.890728            0.890728         0.476821   \n",
       "F1 Score          0.939738            0.939738         0.643575   \n",
       "\n",
       "           BNB(N-Grams)-TFIDF  \n",
       "Accuracy             0.816561  \n",
       "Precision            0.989691  \n",
       "Recall               0.476821  \n",
       "F1 Score             0.643575  "
      ]
     },
     "execution_count": 48,
     "metadata": {},
     "output_type": "execute_result"
    }
   ],
   "source": [
    "results_tf = pd.DataFrame(list(zip(cm7, cm8, cm9, cm10, cm11, cm12)))\n",
    "results_tf = results_tf.set_index([['Accuracy', 'Precision', 'Recall', 'F1 Score']])\n",
    "results_tf.columns = ['LR(Word)-TFIDF', 'LR(N-Grams)-TFIDF', 'MNB(Word)-TFIDF', \n",
    "                      'MNB(N-Grams)-TFIDF', 'BNB(Word)-TFIDF', 'BNB(N-Grams)-TFIDF']\n",
    "results_tf\n",
    "\n",
    "results = pd.concat([results, results_tf], axis=1)\n",
    "results"
   ]
  },
  {
   "cell_type": "markdown",
   "id": "0a2603da-4375-48cd-91d9-5da3f13c6e9e",
   "metadata": {},
   "source": [
    "## MNB(N-GRAMS-CV) EN İYİ SKORLARI VEREN MODEL OLDU"
   ]
  },
  {
   "cell_type": "code",
   "execution_count": null,
   "id": "3c99a35b-94a0-4ac8-89bc-43e2ad3e3f92",
   "metadata": {},
   "outputs": [],
   "source": []
  },
  {
   "cell_type": "code",
   "execution_count": null,
   "id": "c6f9fd47-e658-40f8-a5f6-94f448636afb",
   "metadata": {},
   "outputs": [],
   "source": []
  },
  {
   "cell_type": "code",
   "execution_count": null,
   "id": "b004d0a7-fa3b-4b58-a380-f29c0ca39a76",
   "metadata": {},
   "outputs": [],
   "source": []
  },
  {
   "cell_type": "code",
   "execution_count": null,
   "id": "267a78e9-0e54-4128-a711-81f1877b5147",
   "metadata": {},
   "outputs": [],
   "source": []
  },
  {
   "cell_type": "code",
   "execution_count": null,
   "id": "f62abcd6-90e3-469d-89d7-2d6e126d7274",
   "metadata": {},
   "outputs": [],
   "source": []
  },
  {
   "cell_type": "code",
   "execution_count": null,
   "id": "3e83b4fc-ab32-417e-b72f-a2a6ae84675a",
   "metadata": {},
   "outputs": [],
   "source": []
  },
  {
   "cell_type": "code",
   "execution_count": null,
   "id": "20bf0791-4498-46c2-b472-cc599825c86b",
   "metadata": {},
   "outputs": [],
   "source": []
  },
  {
   "cell_type": "code",
   "execution_count": null,
   "id": "d010d600-ef92-4fdd-9320-e03c54c8ac5b",
   "metadata": {},
   "outputs": [],
   "source": []
  },
  {
   "cell_type": "code",
   "execution_count": null,
   "id": "c6171b76-479e-4557-a61f-9b9d908ce27c",
   "metadata": {},
   "outputs": [],
   "source": []
  },
  {
   "cell_type": "code",
   "execution_count": null,
   "id": "f86b4b2a-682f-43bb-9f21-b09defff37ed",
   "metadata": {},
   "outputs": [],
   "source": []
  },
  {
   "cell_type": "code",
   "execution_count": null,
   "id": "d84de0a1-0370-4b24-9b2a-62c3243dd716",
   "metadata": {},
   "outputs": [],
   "source": []
  },
  {
   "cell_type": "code",
   "execution_count": null,
   "id": "c521c850-999a-42d2-ba04-6d5687c1c81d",
   "metadata": {},
   "outputs": [],
   "source": []
  },
  {
   "cell_type": "code",
   "execution_count": null,
   "id": "ff4c7dc3-313d-4813-961a-261235f4fdde",
   "metadata": {},
   "outputs": [],
   "source": []
  },
  {
   "cell_type": "code",
   "execution_count": null,
   "id": "1e167123-b332-4368-9bfa-e9959de5df3e",
   "metadata": {},
   "outputs": [],
   "source": []
  },
  {
   "cell_type": "code",
   "execution_count": null,
   "id": "04f6875e-e9ce-4e72-b5a6-8f10acef86b1",
   "metadata": {},
   "outputs": [],
   "source": []
  },
  {
   "cell_type": "code",
   "execution_count": null,
   "id": "a507c5c7-9894-4676-a7e6-77ba6d992a16",
   "metadata": {},
   "outputs": [],
   "source": []
  },
  {
   "cell_type": "code",
   "execution_count": null,
   "id": "3f7661f4-77c3-4ab7-9060-f7100376db26",
   "metadata": {},
   "outputs": [],
   "source": []
  },
  {
   "cell_type": "code",
   "execution_count": null,
   "id": "ee25cd9a-278e-4640-add9-bc8a7977f0de",
   "metadata": {},
   "outputs": [],
   "source": []
  },
  {
   "cell_type": "code",
   "execution_count": null,
   "id": "19e6b880-a9c4-41c5-9bfa-b9d4d3732cf2",
   "metadata": {},
   "outputs": [],
   "source": []
  },
  {
   "cell_type": "code",
   "execution_count": null,
   "id": "6125b67c-14ff-44ca-a73a-cd0cbad69bc2",
   "metadata": {},
   "outputs": [],
   "source": []
  },
  {
   "cell_type": "code",
   "execution_count": null,
   "id": "0e8f291d-8cfa-44f3-b4bd-f36100fea89b",
   "metadata": {},
   "outputs": [],
   "source": []
  },
  {
   "cell_type": "code",
   "execution_count": null,
   "id": "85affdbd-b803-4ef9-85b6-30b66913336e",
   "metadata": {},
   "outputs": [],
   "source": []
  },
  {
   "cell_type": "code",
   "execution_count": null,
   "id": "d6e30648-3d09-4c6b-91db-fdabb9666589",
   "metadata": {},
   "outputs": [],
   "source": []
  },
  {
   "cell_type": "code",
   "execution_count": null,
   "id": "010c4639-adb9-4399-a876-22cff85ed864",
   "metadata": {},
   "outputs": [],
   "source": []
  },
  {
   "cell_type": "code",
   "execution_count": null,
   "id": "371d90a0-88ea-4f80-a0db-b9e08d901467",
   "metadata": {},
   "outputs": [],
   "source": []
  },
  {
   "cell_type": "code",
   "execution_count": null,
   "id": "f5471ed8-1c46-4245-84d3-977b77e9fca6",
   "metadata": {},
   "outputs": [],
   "source": []
  },
  {
   "cell_type": "code",
   "execution_count": null,
   "id": "e1e0986b-26aa-4da9-b273-f09a2327d743",
   "metadata": {},
   "outputs": [],
   "source": []
  },
  {
   "cell_type": "code",
   "execution_count": null,
   "id": "5e8f672a-0c48-4542-af65-9318ef0f41d9",
   "metadata": {},
   "outputs": [],
   "source": []
  },
  {
   "cell_type": "code",
   "execution_count": null,
   "id": "f51b3cf1-fced-4c85-a38c-7ff1a5c243fd",
   "metadata": {},
   "outputs": [],
   "source": []
  },
  {
   "cell_type": "code",
   "execution_count": null,
   "id": "20ff9588-8049-40bf-8011-166c6494b2f6",
   "metadata": {},
   "outputs": [],
   "source": []
  },
  {
   "cell_type": "code",
   "execution_count": null,
   "id": "e9ad444f-35c2-449b-a209-54c931228194",
   "metadata": {},
   "outputs": [],
   "source": []
  },
  {
   "cell_type": "code",
   "execution_count": null,
   "id": "8a3526be-f870-4808-a681-2b14546f6891",
   "metadata": {},
   "outputs": [],
   "source": []
  },
  {
   "cell_type": "code",
   "execution_count": null,
   "id": "83b272fe-7b4c-4f32-b821-c38ba6af98a0",
   "metadata": {},
   "outputs": [],
   "source": []
  },
  {
   "cell_type": "code",
   "execution_count": null,
   "id": "55b376e0-5651-4c64-98bf-8e491f09a9e0",
   "metadata": {},
   "outputs": [],
   "source": []
  },
  {
   "cell_type": "code",
   "execution_count": null,
   "id": "dc24c1a9-feff-46e7-ab96-9845e0e816ee",
   "metadata": {},
   "outputs": [],
   "source": []
  },
  {
   "cell_type": "code",
   "execution_count": null,
   "id": "3f930d5e-0076-4092-a8f6-b0e0183eda18",
   "metadata": {},
   "outputs": [],
   "source": []
  },
  {
   "cell_type": "code",
   "execution_count": null,
   "id": "68f969fe-e252-4303-b3ed-5c4d03f4ed43",
   "metadata": {},
   "outputs": [],
   "source": []
  },
  {
   "cell_type": "code",
   "execution_count": null,
   "id": "9fb8f2fa-b36d-4bc8-a824-feff39eca6f6",
   "metadata": {},
   "outputs": [],
   "source": []
  },
  {
   "cell_type": "code",
   "execution_count": null,
   "id": "904d0666-8345-4c93-a8b1-91cfd722fe9e",
   "metadata": {},
   "outputs": [],
   "source": []
  },
  {
   "cell_type": "code",
   "execution_count": null,
   "id": "800d4010-a590-4f56-af46-d6a054a55d07",
   "metadata": {},
   "outputs": [],
   "source": []
  }
 ],
 "metadata": {
  "kernelspec": {
   "display_name": "Python 3 (ipykernel)",
   "language": "python",
   "name": "python3"
  },
  "language_info": {
   "codemirror_mode": {
    "name": "ipython",
    "version": 3
   },
   "file_extension": ".py",
   "mimetype": "text/x-python",
   "name": "python",
   "nbconvert_exporter": "python",
   "pygments_lexer": "ipython3",
   "version": "3.11.5"
  }
 },
 "nbformat": 4,
 "nbformat_minor": 5
}
